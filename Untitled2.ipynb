{
  "nbformat": 4,
  "nbformat_minor": 0,
  "metadata": {
    "colab": {
      "provenance": [],
      "authorship_tag": "ABX9TyPtuy4g9lO2tEauwiH5Xqqg",
      "include_colab_link": true
    },
    "kernelspec": {
      "name": "python3",
      "display_name": "Python 3"
    },
    "language_info": {
      "name": "python"
    }
  },
  "cells": [
    {
      "cell_type": "markdown",
      "metadata": {
        "id": "view-in-github",
        "colab_type": "text"
      },
      "source": [
        "<a href=\"https://colab.research.google.com/github/annbesenkova/addd/blob/main/Untitled2.ipynb\" target=\"_parent\"><img src=\"https://colab.research.google.com/assets/colab-badge.svg\" alt=\"Open In Colab\"/></a>"
      ]
    },
    {
      "cell_type": "code",
      "execution_count": null,
      "metadata": {
        "colab": {
          "base_uri": "https://localhost:8080/",
          "height": 585
        },
        "id": "n2csZRM7LxOW",
        "outputId": "1cc10dca-c26f-4ca0-91d8-7b1ac8305e40"
      },
      "outputs": [
        {
          "output_type": "execute_result",
          "data": {
            "text/plain": [
              "       Unnamed: 0  statefips        state         gisjoin  lat_tract  \\\n",
              "0               0          1      Alabama  G0100010020100   32.47718   \n",
              "1               1          1      Alabama  G0100010020200   32.47425   \n",
              "2               2          1      Alabama  G0100010020300   32.47543   \n",
              "3               3          1      Alabama  G0100010020400   32.47200   \n",
              "4               4          1      Alabama  G0100010020500   32.45883   \n",
              "...           ...        ...          ...             ...        ...   \n",
              "73275       73275         72  Puerto Rico  G7201530750501   18.03124   \n",
              "73276       73276         72  Puerto Rico  G7201530750502   18.02477   \n",
              "73277       73277         72  Puerto Rico  G7201530750503   18.02527   \n",
              "73278       73278         72  Puerto Rico  G7201530750601   18.01738   \n",
              "73279       73279         72  Puerto Rico  G7201530750602   17.98674   \n",
              "\n",
              "       long_tract  population  adj_radiuspop_5  urbanindex   log_pop  \n",
              "0       -86.49007        1845          44076.0    10.69367  7.520235  \n",
              "1       -86.47337        2172          43008.0    10.66914  7.683404  \n",
              "2       -86.46019        3385          38987.0    10.57098  8.127109  \n",
              "3       -86.44363        4267          43131.0    10.67200  8.358666  \n",
              "4       -86.42266        9965          43131.0    10.67200  9.206834  \n",
              "...           ...         ...              ...         ...       ...  \n",
              "73275   -66.86725        6011          52155.0    10.86198  8.701346  \n",
              "73276   -66.86044        2342          55257.0    10.91975  7.758761  \n",
              "73277   -66.87763        2218          48423.0    10.78773  7.704361  \n",
              "73278   -66.83936        4380          50600.0    10.83171  8.384804  \n",
              "73279   -66.85192        3001          44921.0    10.71266  8.006701  \n",
              "\n",
              "[73280 rows x 10 columns]"
            ],
            "text/html": [
              "\n",
              "  <div id=\"df-e1e0acdf-5c72-44a8-85fa-260f29d394f1\">\n",
              "    <div class=\"colab-df-container\">\n",
              "      <div>\n",
              "<style scoped>\n",
              "    .dataframe tbody tr th:only-of-type {\n",
              "        vertical-align: middle;\n",
              "    }\n",
              "\n",
              "    .dataframe tbody tr th {\n",
              "        vertical-align: top;\n",
              "    }\n",
              "\n",
              "    .dataframe thead th {\n",
              "        text-align: right;\n",
              "    }\n",
              "</style>\n",
              "<table border=\"1\" class=\"dataframe\">\n",
              "  <thead>\n",
              "    <tr style=\"text-align: right;\">\n",
              "      <th></th>\n",
              "      <th>Unnamed: 0</th>\n",
              "      <th>statefips</th>\n",
              "      <th>state</th>\n",
              "      <th>gisjoin</th>\n",
              "      <th>lat_tract</th>\n",
              "      <th>long_tract</th>\n",
              "      <th>population</th>\n",
              "      <th>adj_radiuspop_5</th>\n",
              "      <th>urbanindex</th>\n",
              "      <th>log_pop</th>\n",
              "    </tr>\n",
              "  </thead>\n",
              "  <tbody>\n",
              "    <tr>\n",
              "      <th>0</th>\n",
              "      <td>0</td>\n",
              "      <td>1</td>\n",
              "      <td>Alabama</td>\n",
              "      <td>G0100010020100</td>\n",
              "      <td>32.47718</td>\n",
              "      <td>-86.49007</td>\n",
              "      <td>1845</td>\n",
              "      <td>44076.0</td>\n",
              "      <td>10.69367</td>\n",
              "      <td>7.520235</td>\n",
              "    </tr>\n",
              "    <tr>\n",
              "      <th>1</th>\n",
              "      <td>1</td>\n",
              "      <td>1</td>\n",
              "      <td>Alabama</td>\n",
              "      <td>G0100010020200</td>\n",
              "      <td>32.47425</td>\n",
              "      <td>-86.47337</td>\n",
              "      <td>2172</td>\n",
              "      <td>43008.0</td>\n",
              "      <td>10.66914</td>\n",
              "      <td>7.683404</td>\n",
              "    </tr>\n",
              "    <tr>\n",
              "      <th>2</th>\n",
              "      <td>2</td>\n",
              "      <td>1</td>\n",
              "      <td>Alabama</td>\n",
              "      <td>G0100010020300</td>\n",
              "      <td>32.47543</td>\n",
              "      <td>-86.46019</td>\n",
              "      <td>3385</td>\n",
              "      <td>38987.0</td>\n",
              "      <td>10.57098</td>\n",
              "      <td>8.127109</td>\n",
              "    </tr>\n",
              "    <tr>\n",
              "      <th>3</th>\n",
              "      <td>3</td>\n",
              "      <td>1</td>\n",
              "      <td>Alabama</td>\n",
              "      <td>G0100010020400</td>\n",
              "      <td>32.47200</td>\n",
              "      <td>-86.44363</td>\n",
              "      <td>4267</td>\n",
              "      <td>43131.0</td>\n",
              "      <td>10.67200</td>\n",
              "      <td>8.358666</td>\n",
              "    </tr>\n",
              "    <tr>\n",
              "      <th>4</th>\n",
              "      <td>4</td>\n",
              "      <td>1</td>\n",
              "      <td>Alabama</td>\n",
              "      <td>G0100010020500</td>\n",
              "      <td>32.45883</td>\n",
              "      <td>-86.42266</td>\n",
              "      <td>9965</td>\n",
              "      <td>43131.0</td>\n",
              "      <td>10.67200</td>\n",
              "      <td>9.206834</td>\n",
              "    </tr>\n",
              "    <tr>\n",
              "      <th>...</th>\n",
              "      <td>...</td>\n",
              "      <td>...</td>\n",
              "      <td>...</td>\n",
              "      <td>...</td>\n",
              "      <td>...</td>\n",
              "      <td>...</td>\n",
              "      <td>...</td>\n",
              "      <td>...</td>\n",
              "      <td>...</td>\n",
              "      <td>...</td>\n",
              "    </tr>\n",
              "    <tr>\n",
              "      <th>73275</th>\n",
              "      <td>73275</td>\n",
              "      <td>72</td>\n",
              "      <td>Puerto Rico</td>\n",
              "      <td>G7201530750501</td>\n",
              "      <td>18.03124</td>\n",
              "      <td>-66.86725</td>\n",
              "      <td>6011</td>\n",
              "      <td>52155.0</td>\n",
              "      <td>10.86198</td>\n",
              "      <td>8.701346</td>\n",
              "    </tr>\n",
              "    <tr>\n",
              "      <th>73276</th>\n",
              "      <td>73276</td>\n",
              "      <td>72</td>\n",
              "      <td>Puerto Rico</td>\n",
              "      <td>G7201530750502</td>\n",
              "      <td>18.02477</td>\n",
              "      <td>-66.86044</td>\n",
              "      <td>2342</td>\n",
              "      <td>55257.0</td>\n",
              "      <td>10.91975</td>\n",
              "      <td>7.758761</td>\n",
              "    </tr>\n",
              "    <tr>\n",
              "      <th>73277</th>\n",
              "      <td>73277</td>\n",
              "      <td>72</td>\n",
              "      <td>Puerto Rico</td>\n",
              "      <td>G7201530750503</td>\n",
              "      <td>18.02527</td>\n",
              "      <td>-66.87763</td>\n",
              "      <td>2218</td>\n",
              "      <td>48423.0</td>\n",
              "      <td>10.78773</td>\n",
              "      <td>7.704361</td>\n",
              "    </tr>\n",
              "    <tr>\n",
              "      <th>73278</th>\n",
              "      <td>73278</td>\n",
              "      <td>72</td>\n",
              "      <td>Puerto Rico</td>\n",
              "      <td>G7201530750601</td>\n",
              "      <td>18.01738</td>\n",
              "      <td>-66.83936</td>\n",
              "      <td>4380</td>\n",
              "      <td>50600.0</td>\n",
              "      <td>10.83171</td>\n",
              "      <td>8.384804</td>\n",
              "    </tr>\n",
              "    <tr>\n",
              "      <th>73279</th>\n",
              "      <td>73279</td>\n",
              "      <td>72</td>\n",
              "      <td>Puerto Rico</td>\n",
              "      <td>G7201530750602</td>\n",
              "      <td>17.98674</td>\n",
              "      <td>-66.85192</td>\n",
              "      <td>3001</td>\n",
              "      <td>44921.0</td>\n",
              "      <td>10.71266</td>\n",
              "      <td>8.006701</td>\n",
              "    </tr>\n",
              "  </tbody>\n",
              "</table>\n",
              "<p>73280 rows × 10 columns</p>\n",
              "</div>\n",
              "      <button class=\"colab-df-convert\" onclick=\"convertToInteractive('df-e1e0acdf-5c72-44a8-85fa-260f29d394f1')\"\n",
              "              title=\"Convert this dataframe to an interactive table.\"\n",
              "              style=\"display:none;\">\n",
              "        \n",
              "  <svg xmlns=\"http://www.w3.org/2000/svg\" height=\"24px\"viewBox=\"0 0 24 24\"\n",
              "       width=\"24px\">\n",
              "    <path d=\"M0 0h24v24H0V0z\" fill=\"none\"/>\n",
              "    <path d=\"M18.56 5.44l.94 2.06.94-2.06 2.06-.94-2.06-.94-.94-2.06-.94 2.06-2.06.94zm-11 1L8.5 8.5l.94-2.06 2.06-.94-2.06-.94L8.5 2.5l-.94 2.06-2.06.94zm10 10l.94 2.06.94-2.06 2.06-.94-2.06-.94-.94-2.06-.94 2.06-2.06.94z\"/><path d=\"M17.41 7.96l-1.37-1.37c-.4-.4-.92-.59-1.43-.59-.52 0-1.04.2-1.43.59L10.3 9.45l-7.72 7.72c-.78.78-.78 2.05 0 2.83L4 21.41c.39.39.9.59 1.41.59.51 0 1.02-.2 1.41-.59l7.78-7.78 2.81-2.81c.8-.78.8-2.07 0-2.86zM5.41 20L4 18.59l7.72-7.72 1.47 1.35L5.41 20z\"/>\n",
              "  </svg>\n",
              "      </button>\n",
              "      \n",
              "  <style>\n",
              "    .colab-df-container {\n",
              "      display:flex;\n",
              "      flex-wrap:wrap;\n",
              "      gap: 12px;\n",
              "    }\n",
              "\n",
              "    .colab-df-convert {\n",
              "      background-color: #E8F0FE;\n",
              "      border: none;\n",
              "      border-radius: 50%;\n",
              "      cursor: pointer;\n",
              "      display: none;\n",
              "      fill: #1967D2;\n",
              "      height: 32px;\n",
              "      padding: 0 0 0 0;\n",
              "      width: 32px;\n",
              "    }\n",
              "\n",
              "    .colab-df-convert:hover {\n",
              "      background-color: #E2EBFA;\n",
              "      box-shadow: 0px 1px 2px rgba(60, 64, 67, 0.3), 0px 1px 3px 1px rgba(60, 64, 67, 0.15);\n",
              "      fill: #174EA6;\n",
              "    }\n",
              "\n",
              "    [theme=dark] .colab-df-convert {\n",
              "      background-color: #3B4455;\n",
              "      fill: #D2E3FC;\n",
              "    }\n",
              "\n",
              "    [theme=dark] .colab-df-convert:hover {\n",
              "      background-color: #434B5C;\n",
              "      box-shadow: 0px 1px 3px 1px rgba(0, 0, 0, 0.15);\n",
              "      filter: drop-shadow(0px 1px 2px rgba(0, 0, 0, 0.3));\n",
              "      fill: #FFFFFF;\n",
              "    }\n",
              "  </style>\n",
              "\n",
              "      <script>\n",
              "        const buttonEl =\n",
              "          document.querySelector('#df-e1e0acdf-5c72-44a8-85fa-260f29d394f1 button.colab-df-convert');\n",
              "        buttonEl.style.display =\n",
              "          google.colab.kernel.accessAllowed ? 'block' : 'none';\n",
              "\n",
              "        async function convertToInteractive(key) {\n",
              "          const element = document.querySelector('#df-e1e0acdf-5c72-44a8-85fa-260f29d394f1');\n",
              "          const dataTable =\n",
              "            await google.colab.kernel.invokeFunction('convertToInteractive',\n",
              "                                                     [key], {});\n",
              "          if (!dataTable) return;\n",
              "\n",
              "          const docLinkHtml = 'Like what you see? Visit the ' +\n",
              "            '<a target=\"_blank\" href=https://colab.research.google.com/notebooks/data_table.ipynb>data table notebook</a>'\n",
              "            + ' to learn more about interactive tables.';\n",
              "          element.innerHTML = '';\n",
              "          dataTable['output_type'] = 'display_data';\n",
              "          await google.colab.output.renderOutput(dataTable, element);\n",
              "          const docLink = document.createElement('div');\n",
              "          docLink.innerHTML = docLinkHtml;\n",
              "          element.appendChild(docLink);\n",
              "        }\n",
              "      </script>\n",
              "    </div>\n",
              "  </div>\n",
              "  "
            ]
          },
          "metadata": {},
          "execution_count": 2
        }
      ],
      "source": [
        "import pandas as pd\n",
        "import seaborn as sns\n",
        "import matplotlib.pyplot as plt\n",
        "file = pd.read_csv(\"https://raw.githubusercontent.com/annbesenkova/addd/main/UrbanizationCensusTract%20(1).csv\", sep=',')\n",
        "file"
      ]
    },
    {
      "cell_type": "code",
      "source": [],
      "metadata": {
        "id": "SLbsF45ecaYW"
      },
      "execution_count": null,
      "outputs": []
    },
    {
      "cell_type": "code",
      "source": [
        "file['urbanindex'].hist()\n"
      ],
      "metadata": {
        "colab": {
          "base_uri": "https://localhost:8080/",
          "height": 283
        },
        "id": "d7zGZw3aOQlK",
        "outputId": "323f2516-9984-4612-9e14-efaf62283160"
      },
      "execution_count": null,
      "outputs": [
        {
          "output_type": "execute_result",
          "data": {
            "text/plain": [
              "<matplotlib.axes._subplots.AxesSubplot at 0x7f5880857d90>"
            ]
          },
          "metadata": {},
          "execution_count": 38
        },
        {
          "output_type": "display_data",
          "data": {
            "text/plain": [
              "<Figure size 432x288 with 1 Axes>"
            ],
            "image/png": "[encoded data removed]"
          },
          "metadata": {
            "needs_background": "light"
          }
        }
      ]
    },
    {
      "cell_type": "code",
      "source": [
        "\n",
        "sns.boxplot(x = file['population'])"
      ],
      "metadata": {
        "colab": {
          "base_uri": "https://localhost:8080/",
          "height": 297
        },
        "id": "LlN9p1GTQGgW",
        "outputId": "34f35578-d1a4-4f75-f1a4-851c18db23ab"
      },
      "execution_count": null,
      "outputs": [
        {
          "output_type": "execute_result",
          "data": {
            "text/plain": [
              "<matplotlib.axes._subplots.AxesSubplot at 0x7f5887a3d700>"
            ]
          },
          "metadata": {},
          "execution_count": 6
        },
        {
          "output_type": "display_data",
          "data": {
            "text/plain": [
              "<Figure size 432x288 with 1 Axes>"
            ],
            "image/png": "[encoded data removed]"
          },
          "metadata": {
            "needs_background": "light"
          }
        }
      ]
    },
    {
      "cell_type": "code",
      "source": [
        "a = file[file['state'] == 'Alaska']"
      ],
      "metadata": {
        "id": "npc7VQ4gSdyC"
      },
      "execution_count": null,
      "outputs": []
    },
    {
      "cell_type": "code",
      "source": [
        "a"
      ],
      "metadata": {
        "colab": {
          "base_uri": "https://localhost:8080/",
          "height": 415
        },
        "id": "UApPQMzGSxtP",
        "outputId": "f65d231c-c644-4ee4-aa2c-422ea57db827"
      },
      "execution_count": null,
      "outputs": [
        {
          "output_type": "execute_result",
          "data": {
            "text/plain": [
              "      Unnamed: 0  statefips   state         gisjoin  lat_tract  long_tract  \\\n",
              "1176        1176          2  Alaska  G0200130000100   55.36356  -161.99370   \n",
              "1177        1177          2  Alaska  G0200160000100   52.51656   -87.62968   \n",
              "1178        1178          2  Alaska  G0200160000200   53.67216  -166.86780   \n",
              "1179        1179          2  Alaska  G0200200000101   61.26067  -148.82590   \n",
              "1180        1180          2  Alaska  G0200200000102   61.33286  -149.36830   \n",
              "...          ...        ...     ...             ...        ...         ...   \n",
              "1336        1336          2  Alaska  G0202820000100   59.89281  -140.36700   \n",
              "1337        1337          2  Alaska  G0202900000100   66.85707  -144.45050   \n",
              "1338        1338          2  Alaska  G0202900000200   66.04549  -150.87210   \n",
              "1339        1339          2  Alaska  G0202900000300   65.33978  -156.23380   \n",
              "1340        1340          2  Alaska  G0202900000400   62.96323  -156.69910   \n",
              "\n",
              "      population  adj_radiuspop_5  urbanindex   log_pop  \n",
              "1176        3338         1.447378    0.369753  8.113127  \n",
              "1177         975         0.742474   -0.297768  6.882437  \n",
              "1178        4809         1.447378    0.369753  8.478244  \n",
              "1179        5514       376.531000    5.931001  8.615046  \n",
              "1180        5198     14903.000000    9.609318  8.556029  \n",
              "...          ...              ...         ...       ...  \n",
              "1336         682         3.297679    1.193219  6.525030  \n",
              "1337        1224         3.746182    1.320737  7.109879  \n",
              "1338        1378         5.268563    1.661758  7.228388  \n",
              "1339        1823         3.196699    1.162119  7.508239  \n",
              "1340        1028         7.107684    1.961177  6.935370  \n",
              "\n",
              "[165 rows x 10 columns]"
            ],
            "text/html": [
              "\n",
              "  <div id=\"df-82a08825-5fcb-4dc2-b797-ab387ea89b41\">\n",
              "    <div class=\"colab-df-container\">\n",
              "      <div>\n",
              "<style scoped>\n",
              "    .dataframe tbody tr th:only-of-type {\n",
              "        vertical-align: middle;\n",
              "    }\n",
              "\n",
              "    .dataframe tbody tr th {\n",
              "        vertical-align: top;\n",
              "    }\n",
              "\n",
              "    .dataframe thead th {\n",
              "        text-align: right;\n",
              "    }\n",
              "</style>\n",
              "<table border=\"1\" class=\"dataframe\">\n",
              "  <thead>\n",
              "    <tr style=\"text-align: right;\">\n",
              "      <th></th>\n",
              "      <th>Unnamed: 0</th>\n",
              "      <th>statefips</th>\n",
              "      <th>state</th>\n",
              "      <th>gisjoin</th>\n",
              "      <th>lat_tract</th>\n",
              "      <th>long_tract</th>\n",
              "      <th>population</th>\n",
              "      <th>adj_radiuspop_5</th>\n",
              "      <th>urbanindex</th>\n",
              "      <th>log_pop</th>\n",
              "    </tr>\n",
              "  </thead>\n",
              "  <tbody>\n",
              "    <tr>\n",
              "      <th>1176</th>\n",
              "      <td>1176</td>\n",
              "      <td>2</td>\n",
              "      <td>Alaska</td>\n",
              "      <td>G0200130000100</td>\n",
              "      <td>55.36356</td>\n",
              "      <td>-161.99370</td>\n",
              "      <td>3338</td>\n",
              "      <td>1.447378</td>\n",
              "      <td>0.369753</td>\n",
              "      <td>8.113127</td>\n",
              "    </tr>\n",
              "    <tr>\n",
              "      <th>1177</th>\n",
              "      <td>1177</td>\n",
              "      <td>2</td>\n",
              "      <td>Alaska</td>\n",
              "      <td>G0200160000100</td>\n",
              "      <td>52.51656</td>\n",
              "      <td>-87.62968</td>\n",
              "      <td>975</td>\n",
              "      <td>0.742474</td>\n",
              "      <td>-0.297768</td>\n",
              "      <td>6.882437</td>\n",
              "    </tr>\n",
              "    <tr>\n",
              "      <th>1178</th>\n",
              "      <td>1178</td>\n",
              "      <td>2</td>\n",
              "      <td>Alaska</td>\n",
              "      <td>G0200160000200</td>\n",
              "      <td>53.67216</td>\n",
              "      <td>-166.86780</td>\n",
              "      <td>4809</td>\n",
              "      <td>1.447378</td>\n",
              "      <td>0.369753</td>\n",
              "      <td>8.478244</td>\n",
              "    </tr>\n",
              "    <tr>\n",
              "      <th>1179</th>\n",
              "      <td>1179</td>\n",
              "      <td>2</td>\n",
              "      <td>Alaska</td>\n",
              "      <td>G0200200000101</td>\n",
              "      <td>61.26067</td>\n",
              "      <td>-148.82590</td>\n",
              "      <td>5514</td>\n",
              "      <td>376.531000</td>\n",
              "      <td>5.931001</td>\n",
              "      <td>8.615046</td>\n",
              "    </tr>\n",
              "    <tr>\n",
              "      <th>1180</th>\n",
              "      <td>1180</td>\n",
              "      <td>2</td>\n",
              "      <td>Alaska</td>\n",
              "      <td>G0200200000102</td>\n",
              "      <td>61.33286</td>\n",
              "      <td>-149.36830</td>\n",
              "      <td>5198</td>\n",
              "      <td>14903.000000</td>\n",
              "      <td>9.609318</td>\n",
              "      <td>8.556029</td>\n",
              "    </tr>\n",
              "    <tr>\n",
              "      <th>...</th>\n",
              "      <td>...</td>\n",
              "      <td>...</td>\n",
              "      <td>...</td>\n",
              "      <td>...</td>\n",
              "      <td>...</td>\n",
              "      <td>...</td>\n",
              "      <td>...</td>\n",
              "      <td>...</td>\n",
              "      <td>...</td>\n",
              "      <td>...</td>\n",
              "    </tr>\n",
              "    <tr>\n",
              "      <th>1336</th>\n",
              "      <td>1336</td>\n",
              "      <td>2</td>\n",
              "      <td>Alaska</td>\n",
              "      <td>G0202820000100</td>\n",
              "      <td>59.89281</td>\n",
              "      <td>-140.36700</td>\n",
              "      <td>682</td>\n",
              "      <td>3.297679</td>\n",
              "      <td>1.193219</td>\n",
              "      <td>6.525030</td>\n",
              "    </tr>\n",
              "    <tr>\n",
              "      <th>1337</th>\n",
              "      <td>1337</td>\n",
              "      <td>2</td>\n",
              "      <td>Alaska</td>\n",
              "      <td>G0202900000100</td>\n",
              "      <td>66.85707</td>\n",
              "      <td>-144.45050</td>\n",
              "      <td>1224</td>\n",
              "      <td>3.746182</td>\n",
              "      <td>1.320737</td>\n",
              "      <td>7.109879</td>\n",
              "    </tr>\n",
              "    <tr>\n",
              "      <th>1338</th>\n",
              "      <td>1338</td>\n",
              "      <td>2</td>\n",
              "      <td>Alaska</td>\n",
              "      <td>G0202900000200</td>\n",
              "      <td>66.04549</td>\n",
              "      <td>-150.87210</td>\n",
              "      <td>1378</td>\n",
              "      <td>5.268563</td>\n",
              "      <td>1.661758</td>\n",
              "      <td>7.228388</td>\n",
              "    </tr>\n",
              "    <tr>\n",
              "      <th>1339</th>\n",
              "      <td>1339</td>\n",
              "      <td>2</td>\n",
              "      <td>Alaska</td>\n",
              "      <td>G0202900000300</td>\n",
              "      <td>65.33978</td>\n",
              "      <td>-156.23380</td>\n",
              "      <td>1823</td>\n",
              "      <td>3.196699</td>\n",
              "      <td>1.162119</td>\n",
              "      <td>7.508239</td>\n",
              "    </tr>\n",
              "    <tr>\n",
              "      <th>1340</th>\n",
              "      <td>1340</td>\n",
              "      <td>2</td>\n",
              "      <td>Alaska</td>\n",
              "      <td>G0202900000400</td>\n",
              "      <td>62.96323</td>\n",
              "      <td>-156.69910</td>\n",
              "      <td>1028</td>\n",
              "      <td>7.107684</td>\n",
              "      <td>1.961177</td>\n",
              "      <td>6.935370</td>\n",
              "    </tr>\n",
              "  </tbody>\n",
              "</table>\n",
              "<p>165 rows × 10 columns</p>\n",
              "</div>\n",
              "      <button class=\"colab-df-convert\" onclick=\"convertToInteractive('df-82a08825-5fcb-4dc2-b797-ab387ea89b41')\"\n",
              "              title=\"Convert this dataframe to an interactive table.\"\n",
              "              style=\"display:none;\">\n",
              "        \n",
              "  <svg xmlns=\"http://www.w3.org/2000/svg\" height=\"24px\"viewBox=\"0 0 24 24\"\n",
              "       width=\"24px\">\n",
              "    <path d=\"M0 0h24v24H0V0z\" fill=\"none\"/>\n",
              "    <path d=\"M18.56 5.44l.94 2.06.94-2.06 2.06-.94-2.06-.94-.94-2.06-.94 2.06-2.06.94zm-11 1L8.5 8.5l.94-2.06 2.06-.94-2.06-.94L8.5 2.5l-.94 2.06-2.06.94zm10 10l.94 2.06.94-2.06 2.06-.94-2.06-.94-.94-2.06-.94 2.06-2.06.94z\"/><path d=\"M17.41 7.96l-1.37-1.37c-.4-.4-.92-.59-1.43-.59-.52 0-1.04.2-1.43.59L10.3 9.45l-7.72 7.72c-.78.78-.78 2.05 0 2.83L4 21.41c.39.39.9.59 1.41.59.51 0 1.02-.2 1.41-.59l7.78-7.78 2.81-2.81c.8-.78.8-2.07 0-2.86zM5.41 20L4 18.59l7.72-7.72 1.47 1.35L5.41 20z\"/>\n",
              "  </svg>\n",
              "      </button>\n",
              "      \n",
              "  <style>\n",
              "    .colab-df-container {\n",
              "      display:flex;\n",
              "      flex-wrap:wrap;\n",
              "      gap: 12px;\n",
              "    }\n",
              "\n",
              "    .colab-df-convert {\n",
              "      background-color: #E8F0FE;\n",
              "      border: none;\n",
              "      border-radius: 50%;\n",
              "      cursor: pointer;\n",
              "      display: none;\n",
              "      fill: #1967D2;\n",
              "      height: 32px;\n",
              "      padding: 0 0 0 0;\n",
              "      width: 32px;\n",
              "    }\n",
              "\n",
              "    .colab-df-convert:hover {\n",
              "      background-color: #E2EBFA;\n",
              "      box-shadow: 0px 1px 2px rgba(60, 64, 67, 0.3), 0px 1px 3px 1px rgba(60, 64, 67, 0.15);\n",
              "      fill: #174EA6;\n",
              "    }\n",
              "\n",
              "    [theme=dark] .colab-df-convert {\n",
              "      background-color: #3B4455;\n",
              "      fill: #D2E3FC;\n",
              "    }\n",
              "\n",
              "    [theme=dark] .colab-df-convert:hover {\n",
              "      background-color: #434B5C;\n",
              "      box-shadow: 0px 1px 3px 1px rgba(0, 0, 0, 0.15);\n",
              "      filter: drop-shadow(0px 1px 2px rgba(0, 0, 0, 0.3));\n",
              "      fill: #FFFFFF;\n",
              "    }\n",
              "  </style>\n",
              "\n",
              "      <script>\n",
              "        const buttonEl =\n",
              "          document.querySelector('#df-82a08825-5fcb-4dc2-b797-ab387ea89b41 button.colab-df-convert');\n",
              "        buttonEl.style.display =\n",
              "          google.colab.kernel.accessAllowed ? 'block' : 'none';\n",
              "\n",
              "        async function convertToInteractive(key) {\n",
              "          const element = document.querySelector('#df-82a08825-5fcb-4dc2-b797-ab387ea89b41');\n",
              "          const dataTable =\n",
              "            await google.colab.kernel.invokeFunction('convertToInteractive',\n",
              "                                                     [key], {});\n",
              "          if (!dataTable) return;\n",
              "\n",
              "          const docLinkHtml = 'Like what you see? Visit the ' +\n",
              "            '<a target=\"_blank\" href=https://colab.research.google.com/notebooks/data_table.ipynb>data table notebook</a>'\n",
              "            + ' to learn more about interactive tables.';\n",
              "          element.innerHTML = '';\n",
              "          dataTable['output_type'] = 'display_data';\n",
              "          await google.colab.output.renderOutput(dataTable, element);\n",
              "          const docLink = document.createElement('div');\n",
              "          docLink.innerHTML = docLinkHtml;\n",
              "          element.appendChild(docLink);\n",
              "        }\n",
              "      </script>\n",
              "    </div>\n",
              "  </div>\n",
              "  "
            ]
          },
          "metadata": {},
          "execution_count": 10
        }
      ]
    },
    {
      "cell_type": "code",
      "source": [
        "a['gisjoin'].unique().size"
      ],
      "metadata": {
        "colab": {
          "base_uri": "https://localhost:8080/"
        },
        "id": "15k0GrXySzn8",
        "outputId": "d3804420-8dcd-48e4-d703-c13297048455"
      },
      "execution_count": null,
      "outputs": [
        {
          "output_type": "execute_result",
          "data": {
            "text/plain": [
              "165"
            ]
          },
          "metadata": {},
          "execution_count": 12
        }
      ]
    },
    {
      "cell_type": "code",
      "source": [
        "file.head()"
      ],
      "metadata": {
        "colab": {
          "base_uri": "https://localhost:8080/",
          "height": 202
        },
        "id": "MjA6JvJnTEIf",
        "outputId": "edfaf172-e68a-4af0-f1b9-ee3098acbd42"
      },
      "execution_count": null,
      "outputs": [
        {
          "output_type": "execute_result",
          "data": {
            "text/plain": [
              "   Unnamed: 0  statefips    state         gisjoin  lat_tract  long_tract  \\\n",
              "0           0          1  Alabama  G0100010020100   32.47718   -86.49007   \n",
              "1           1          1  Alabama  G0100010020200   32.47425   -86.47337   \n",
              "2           2          1  Alabama  G0100010020300   32.47543   -86.46019   \n",
              "3           3          1  Alabama  G0100010020400   32.47200   -86.44363   \n",
              "4           4          1  Alabama  G0100010020500   32.45883   -86.42266   \n",
              "\n",
              "   population  adj_radiuspop_5  urbanindex   log_pop  \n",
              "0        1845          44076.0    10.69367  7.520235  \n",
              "1        2172          43008.0    10.66914  7.683404  \n",
              "2        3385          38987.0    10.57098  8.127109  \n",
              "3        4267          43131.0    10.67200  8.358666  \n",
              "4        9965          43131.0    10.67200  9.206834  "
            ],
            "text/html": [
              "\n",
              "  <div id=\"df-4baefcf3-5b1c-48f1-a9d6-f57d5c00db92\">\n",
              "    <div class=\"colab-df-container\">\n",
              "      <div>\n",
              "<style scoped>\n",
              "    .dataframe tbody tr th:only-of-type {\n",
              "        vertical-align: middle;\n",
              "    }\n",
              "\n",
              "    .dataframe tbody tr th {\n",
              "        vertical-align: top;\n",
              "    }\n",
              "\n",
              "    .dataframe thead th {\n",
              "        text-align: right;\n",
              "    }\n",
              "</style>\n",
              "<table border=\"1\" class=\"dataframe\">\n",
              "  <thead>\n",
              "    <tr style=\"text-align: right;\">\n",
              "      <th></th>\n",
              "      <th>Unnamed: 0</th>\n",
              "      <th>statefips</th>\n",
              "      <th>state</th>\n",
              "      <th>gisjoin</th>\n",
              "      <th>lat_tract</th>\n",
              "      <th>long_tract</th>\n",
              "      <th>population</th>\n",
              "      <th>adj_radiuspop_5</th>\n",
              "      <th>urbanindex</th>\n",
              "      <th>log_pop</th>\n",
              "    </tr>\n",
              "  </thead>\n",
              "  <tbody>\n",
              "    <tr>\n",
              "      <th>0</th>\n",
              "      <td>0</td>\n",
              "      <td>1</td>\n",
              "      <td>Alabama</td>\n",
              "      <td>G0100010020100</td>\n",
              "      <td>32.47718</td>\n",
              "      <td>-86.49007</td>\n",
              "      <td>1845</td>\n",
              "      <td>44076.0</td>\n",
              "      <td>10.69367</td>\n",
              "      <td>7.520235</td>\n",
              "    </tr>\n",
              "    <tr>\n",
              "      <th>1</th>\n",
              "      <td>1</td>\n",
              "      <td>1</td>\n",
              "      <td>Alabama</td>\n",
              "      <td>G0100010020200</td>\n",
              "      <td>32.47425</td>\n",
              "      <td>-86.47337</td>\n",
              "      <td>2172</td>\n",
              "      <td>43008.0</td>\n",
              "      <td>10.66914</td>\n",
              "      <td>7.683404</td>\n",
              "    </tr>\n",
              "    <tr>\n",
              "      <th>2</th>\n",
              "      <td>2</td>\n",
              "      <td>1</td>\n",
              "      <td>Alabama</td>\n",
              "      <td>G0100010020300</td>\n",
              "      <td>32.47543</td>\n",
              "      <td>-86.46019</td>\n",
              "      <td>3385</td>\n",
              "      <td>38987.0</td>\n",
              "      <td>10.57098</td>\n",
              "      <td>8.127109</td>\n",
              "    </tr>\n",
              "    <tr>\n",
              "      <th>3</th>\n",
              "      <td>3</td>\n",
              "      <td>1</td>\n",
              "      <td>Alabama</td>\n",
              "      <td>G0100010020400</td>\n",
              "      <td>32.47200</td>\n",
              "      <td>-86.44363</td>\n",
              "      <td>4267</td>\n",
              "      <td>43131.0</td>\n",
              "      <td>10.67200</td>\n",
              "      <td>8.358666</td>\n",
              "    </tr>\n",
              "    <tr>\n",
              "      <th>4</th>\n",
              "      <td>4</td>\n",
              "      <td>1</td>\n",
              "      <td>Alabama</td>\n",
              "      <td>G0100010020500</td>\n",
              "      <td>32.45883</td>\n",
              "      <td>-86.42266</td>\n",
              "      <td>9965</td>\n",
              "      <td>43131.0</td>\n",
              "      <td>10.67200</td>\n",
              "      <td>9.206834</td>\n",
              "    </tr>\n",
              "  </tbody>\n",
              "</table>\n",
              "</div>\n",
              "      <button class=\"colab-df-convert\" onclick=\"convertToInteractive('df-4baefcf3-5b1c-48f1-a9d6-f57d5c00db92')\"\n",
              "              title=\"Convert this dataframe to an interactive table.\"\n",
              "              style=\"display:none;\">\n",
              "        \n",
              "  <svg xmlns=\"http://www.w3.org/2000/svg\" height=\"24px\"viewBox=\"0 0 24 24\"\n",
              "       width=\"24px\">\n",
              "    <path d=\"M0 0h24v24H0V0z\" fill=\"none\"/>\n",
              "    <path d=\"M18.56 5.44l.94 2.06.94-2.06 2.06-.94-2.06-.94-.94-2.06-.94 2.06-2.06.94zm-11 1L8.5 8.5l.94-2.06 2.06-.94-2.06-.94L8.5 2.5l-.94 2.06-2.06.94zm10 10l.94 2.06.94-2.06 2.06-.94-2.06-.94-.94-2.06-.94 2.06-2.06.94z\"/><path d=\"M17.41 7.96l-1.37-1.37c-.4-.4-.92-.59-1.43-.59-.52 0-1.04.2-1.43.59L10.3 9.45l-7.72 7.72c-.78.78-.78 2.05 0 2.83L4 21.41c.39.39.9.59 1.41.59.51 0 1.02-.2 1.41-.59l7.78-7.78 2.81-2.81c.8-.78.8-2.07 0-2.86zM5.41 20L4 18.59l7.72-7.72 1.47 1.35L5.41 20z\"/>\n",
              "  </svg>\n",
              "      </button>\n",
              "      \n",
              "  <style>\n",
              "    .colab-df-container {\n",
              "      display:flex;\n",
              "      flex-wrap:wrap;\n",
              "      gap: 12px;\n",
              "    }\n",
              "\n",
              "    .colab-df-convert {\n",
              "      background-color: #E8F0FE;\n",
              "      border: none;\n",
              "      border-radius: 50%;\n",
              "      cursor: pointer;\n",
              "      display: none;\n",
              "      fill: #1967D2;\n",
              "      height: 32px;\n",
              "      padding: 0 0 0 0;\n",
              "      width: 32px;\n",
              "    }\n",
              "\n",
              "    .colab-df-convert:hover {\n",
              "      background-color: #E2EBFA;\n",
              "      box-shadow: 0px 1px 2px rgba(60, 64, 67, 0.3), 0px 1px 3px 1px rgba(60, 64, 67, 0.15);\n",
              "      fill: #174EA6;\n",
              "    }\n",
              "\n",
              "    [theme=dark] .colab-df-convert {\n",
              "      background-color: #3B4455;\n",
              "      fill: #D2E3FC;\n",
              "    }\n",
              "\n",
              "    [theme=dark] .colab-df-convert:hover {\n",
              "      background-color: #434B5C;\n",
              "      box-shadow: 0px 1px 3px 1px rgba(0, 0, 0, 0.15);\n",
              "      filter: drop-shadow(0px 1px 2px rgba(0, 0, 0, 0.3));\n",
              "      fill: #FFFFFF;\n",
              "    }\n",
              "  </style>\n",
              "\n",
              "      <script>\n",
              "        const buttonEl =\n",
              "          document.querySelector('#df-4baefcf3-5b1c-48f1-a9d6-f57d5c00db92 button.colab-df-convert');\n",
              "        buttonEl.style.display =\n",
              "          google.colab.kernel.accessAllowed ? 'block' : 'none';\n",
              "\n",
              "        async function convertToInteractive(key) {\n",
              "          const element = document.querySelector('#df-4baefcf3-5b1c-48f1-a9d6-f57d5c00db92');\n",
              "          const dataTable =\n",
              "            await google.colab.kernel.invokeFunction('convertToInteractive',\n",
              "                                                     [key], {});\n",
              "          if (!dataTable) return;\n",
              "\n",
              "          const docLinkHtml = 'Like what you see? Visit the ' +\n",
              "            '<a target=\"_blank\" href=https://colab.research.google.com/notebooks/data_table.ipynb>data table notebook</a>'\n",
              "            + ' to learn more about interactive tables.';\n",
              "          element.innerHTML = '';\n",
              "          dataTable['output_type'] = 'display_data';\n",
              "          await google.colab.output.renderOutput(dataTable, element);\n",
              "          const docLink = document.createElement('div');\n",
              "          docLink.innerHTML = docLinkHtml;\n",
              "          element.appendChild(docLink);\n",
              "        }\n",
              "      </script>\n",
              "    </div>\n",
              "  </div>\n",
              "  "
            ]
          },
          "metadata": {},
          "execution_count": 13
        }
      ]
    },
    {
      "cell_type": "code",
      "source": [
        "file2 = pd.DataFrame()"
      ],
      "metadata": {
        "id": "tZcWv732UrE0"
      },
      "execution_count": null,
      "outputs": []
    },
    {
      "cell_type": "code",
      "source": [
        "file2['population'] = file['population']\n",
        "file2['adj_radiuspop_5'] = file['adj_radiuspop_5']\n",
        "file2['urbanindex'] = file['urbanindex']\n",
        "file2.head()"
      ],
      "metadata": {
        "colab": {
          "base_uri": "https://localhost:8080/",
          "height": 202
        },
        "id": "vhRnmQnDU9xe",
        "outputId": "4a01b50c-83f4-4c0b-ac64-04c91323b805"
      },
      "execution_count": null,
      "outputs": [
        {
          "output_type": "execute_result",
          "data": {
            "text/plain": [
              "   population  adj_radiuspop_5  urbanindex\n",
              "0        1845          44076.0    10.69367\n",
              "1        2172          43008.0    10.66914\n",
              "2        3385          38987.0    10.57098\n",
              "3        4267          43131.0    10.67200\n",
              "4        9965          43131.0    10.67200"
            ],
            "text/html": [
              "\n",
              "  <div id=\"df-bce0d860-313f-4ac8-a6e0-3a81cfc17b46\">\n",
              "    <div class=\"colab-df-container\">\n",
              "      <div>\n",
              "<style scoped>\n",
              "    .dataframe tbody tr th:only-of-type {\n",
              "        vertical-align: middle;\n",
              "    }\n",
              "\n",
              "    .dataframe tbody tr th {\n",
              "        vertical-align: top;\n",
              "    }\n",
              "\n",
              "    .dataframe thead th {\n",
              "        text-align: right;\n",
              "    }\n",
              "</style>\n",
              "<table border=\"1\" class=\"dataframe\">\n",
              "  <thead>\n",
              "    <tr style=\"text-align: right;\">\n",
              "      <th></th>\n",
              "      <th>population</th>\n",
              "      <th>adj_radiuspop_5</th>\n",
              "      <th>urbanindex</th>\n",
              "    </tr>\n",
              "  </thead>\n",
              "  <tbody>\n",
              "    <tr>\n",
              "      <th>0</th>\n",
              "      <td>1845</td>\n",
              "      <td>44076.0</td>\n",
              "      <td>10.69367</td>\n",
              "    </tr>\n",
              "    <tr>\n",
              "      <th>1</th>\n",
              "      <td>2172</td>\n",
              "      <td>43008.0</td>\n",
              "      <td>10.66914</td>\n",
              "    </tr>\n",
              "    <tr>\n",
              "      <th>2</th>\n",
              "      <td>3385</td>\n",
              "      <td>38987.0</td>\n",
              "      <td>10.57098</td>\n",
              "    </tr>\n",
              "    <tr>\n",
              "      <th>3</th>\n",
              "      <td>4267</td>\n",
              "      <td>43131.0</td>\n",
              "      <td>10.67200</td>\n",
              "    </tr>\n",
              "    <tr>\n",
              "      <th>4</th>\n",
              "      <td>9965</td>\n",
              "      <td>43131.0</td>\n",
              "      <td>10.67200</td>\n",
              "    </tr>\n",
              "  </tbody>\n",
              "</table>\n",
              "</div>\n",
              "      <button class=\"colab-df-convert\" onclick=\"convertToInteractive('df-bce0d860-313f-4ac8-a6e0-3a81cfc17b46')\"\n",
              "              title=\"Convert this dataframe to an interactive table.\"\n",
              "              style=\"display:none;\">\n",
              "        \n",
              "  <svg xmlns=\"http://www.w3.org/2000/svg\" height=\"24px\"viewBox=\"0 0 24 24\"\n",
              "       width=\"24px\">\n",
              "    <path d=\"M0 0h24v24H0V0z\" fill=\"none\"/>\n",
              "    <path d=\"M18.56 5.44l.94 2.06.94-2.06 2.06-.94-2.06-.94-.94-2.06-.94 2.06-2.06.94zm-11 1L8.5 8.5l.94-2.06 2.06-.94-2.06-.94L8.5 2.5l-.94 2.06-2.06.94zm10 10l.94 2.06.94-2.06 2.06-.94-2.06-.94-.94-2.06-.94 2.06-2.06.94z\"/><path d=\"M17.41 7.96l-1.37-1.37c-.4-.4-.92-.59-1.43-.59-.52 0-1.04.2-1.43.59L10.3 9.45l-7.72 7.72c-.78.78-.78 2.05 0 2.83L4 21.41c.39.39.9.59 1.41.59.51 0 1.02-.2 1.41-.59l7.78-7.78 2.81-2.81c.8-.78.8-2.07 0-2.86zM5.41 20L4 18.59l7.72-7.72 1.47 1.35L5.41 20z\"/>\n",
              "  </svg>\n",
              "      </button>\n",
              "      \n",
              "  <style>\n",
              "    .colab-df-container {\n",
              "      display:flex;\n",
              "      flex-wrap:wrap;\n",
              "      gap: 12px;\n",
              "    }\n",
              "\n",
              "    .colab-df-convert {\n",
              "      background-color: #E8F0FE;\n",
              "      border: none;\n",
              "      border-radius: 50%;\n",
              "      cursor: pointer;\n",
              "      display: none;\n",
              "      fill: #1967D2;\n",
              "      height: 32px;\n",
              "      padding: 0 0 0 0;\n",
              "      width: 32px;\n",
              "    }\n",
              "\n",
              "    .colab-df-convert:hover {\n",
              "      background-color: #E2EBFA;\n",
              "      box-shadow: 0px 1px 2px rgba(60, 64, 67, 0.3), 0px 1px 3px 1px rgba(60, 64, 67, 0.15);\n",
              "      fill: #174EA6;\n",
              "    }\n",
              "\n",
              "    [theme=dark] .colab-df-convert {\n",
              "      background-color: #3B4455;\n",
              "      fill: #D2E3FC;\n",
              "    }\n",
              "\n",
              "    [theme=dark] .colab-df-convert:hover {\n",
              "      background-color: #434B5C;\n",
              "      box-shadow: 0px 1px 3px 1px rgba(0, 0, 0, 0.15);\n",
              "      filter: drop-shadow(0px 1px 2px rgba(0, 0, 0, 0.3));\n",
              "      fill: #FFFFFF;\n",
              "    }\n",
              "  </style>\n",
              "\n",
              "      <script>\n",
              "        const buttonEl =\n",
              "          document.querySelector('#df-bce0d860-313f-4ac8-a6e0-3a81cfc17b46 button.colab-df-convert');\n",
              "        buttonEl.style.display =\n",
              "          google.colab.kernel.accessAllowed ? 'block' : 'none';\n",
              "\n",
              "        async function convertToInteractive(key) {\n",
              "          const element = document.querySelector('#df-bce0d860-313f-4ac8-a6e0-3a81cfc17b46');\n",
              "          const dataTable =\n",
              "            await google.colab.kernel.invokeFunction('convertToInteractive',\n",
              "                                                     [key], {});\n",
              "          if (!dataTable) return;\n",
              "\n",
              "          const docLinkHtml = 'Like what you see? Visit the ' +\n",
              "            '<a target=\"_blank\" href=https://colab.research.google.com/notebooks/data_table.ipynb>data table notebook</a>'\n",
              "            + ' to learn more about interactive tables.';\n",
              "          element.innerHTML = '';\n",
              "          dataTable['output_type'] = 'display_data';\n",
              "          await google.colab.output.renderOutput(dataTable, element);\n",
              "          const docLink = document.createElement('div');\n",
              "          docLink.innerHTML = docLinkHtml;\n",
              "          element.appendChild(docLink);\n",
              "        }\n",
              "      </script>\n",
              "    </div>\n",
              "  </div>\n",
              "  "
            ]
          },
          "metadata": {},
          "execution_count": 39
        }
      ]
    },
    {
      "cell_type": "code",
      "source": [
        "correlation = file2.corr()\n",
        "correlation"
      ],
      "metadata": {
        "colab": {
          "base_uri": "https://localhost:8080/",
          "height": 141
        },
        "id": "Jc_iPpjzTnvO",
        "outputId": "961c4fae-00e8-4de2-e7f0-bed6bf103fab"
      },
      "execution_count": null,
      "outputs": [
        {
          "output_type": "execute_result",
          "data": {
            "text/plain": [
              "                 population  adj_radiuspop_5  urbanindex\n",
              "population         1.000000        -0.036867    0.045142\n",
              "adj_radiuspop_5   -0.036867         1.000000    0.590165\n",
              "urbanindex         0.045142         0.590165    1.000000"
            ],
            "text/html": [
              "\n",
              "  <div id=\"df-3441b44b-3c45-48e0-9d08-1b8eb67776e9\">\n",
              "    <div class=\"colab-df-container\">\n",
              "      <div>\n",
              "<style scoped>\n",
              "    .dataframe tbody tr th:only-of-type {\n",
              "        vertical-align: middle;\n",
              "    }\n",
              "\n",
              "    .dataframe tbody tr th {\n",
              "        vertical-align: top;\n",
              "    }\n",
              "\n",
              "    .dataframe thead th {\n",
              "        text-align: right;\n",
              "    }\n",
              "</style>\n",
              "<table border=\"1\" class=\"dataframe\">\n",
              "  <thead>\n",
              "    <tr style=\"text-align: right;\">\n",
              "      <th></th>\n",
              "      <th>population</th>\n",
              "      <th>adj_radiuspop_5</th>\n",
              "      <th>urbanindex</th>\n",
              "    </tr>\n",
              "  </thead>\n",
              "  <tbody>\n",
              "    <tr>\n",
              "      <th>population</th>\n",
              "      <td>1.000000</td>\n",
              "      <td>-0.036867</td>\n",
              "      <td>0.045142</td>\n",
              "    </tr>\n",
              "    <tr>\n",
              "      <th>adj_radiuspop_5</th>\n",
              "      <td>-0.036867</td>\n",
              "      <td>1.000000</td>\n",
              "      <td>0.590165</td>\n",
              "    </tr>\n",
              "    <tr>\n",
              "      <th>urbanindex</th>\n",
              "      <td>0.045142</td>\n",
              "      <td>0.590165</td>\n",
              "      <td>1.000000</td>\n",
              "    </tr>\n",
              "  </tbody>\n",
              "</table>\n",
              "</div>\n",
              "      <button class=\"colab-df-convert\" onclick=\"convertToInteractive('df-3441b44b-3c45-48e0-9d08-1b8eb67776e9')\"\n",
              "              title=\"Convert this dataframe to an interactive table.\"\n",
              "              style=\"display:none;\">\n",
              "        \n",
              "  <svg xmlns=\"http://www.w3.org/2000/svg\" height=\"24px\"viewBox=\"0 0 24 24\"\n",
              "       width=\"24px\">\n",
              "    <path d=\"M0 0h24v24H0V0z\" fill=\"none\"/>\n",
              "    <path d=\"M18.56 5.44l.94 2.06.94-2.06 2.06-.94-2.06-.94-.94-2.06-.94 2.06-2.06.94zm-11 1L8.5 8.5l.94-2.06 2.06-.94-2.06-.94L8.5 2.5l-.94 2.06-2.06.94zm10 10l.94 2.06.94-2.06 2.06-.94-2.06-.94-.94-2.06-.94 2.06-2.06.94z\"/><path d=\"M17.41 7.96l-1.37-1.37c-.4-.4-.92-.59-1.43-.59-.52 0-1.04.2-1.43.59L10.3 9.45l-7.72 7.72c-.78.78-.78 2.05 0 2.83L4 21.41c.39.39.9.59 1.41.59.51 0 1.02-.2 1.41-.59l7.78-7.78 2.81-2.81c.8-.78.8-2.07 0-2.86zM5.41 20L4 18.59l7.72-7.72 1.47 1.35L5.41 20z\"/>\n",
              "  </svg>\n",
              "      </button>\n",
              "      \n",
              "  <style>\n",
              "    .colab-df-container {\n",
              "      display:flex;\n",
              "      flex-wrap:wrap;\n",
              "      gap: 12px;\n",
              "    }\n",
              "\n",
              "    .colab-df-convert {\n",
              "      background-color: #E8F0FE;\n",
              "      border: none;\n",
              "      border-radius: 50%;\n",
              "      cursor: pointer;\n",
              "      display: none;\n",
              "      fill: #1967D2;\n",
              "      height: 32px;\n",
              "      padding: 0 0 0 0;\n",
              "      width: 32px;\n",
              "    }\n",
              "\n",
              "    .colab-df-convert:hover {\n",
              "      background-color: #E2EBFA;\n",
              "      box-shadow: 0px 1px 2px rgba(60, 64, 67, 0.3), 0px 1px 3px 1px rgba(60, 64, 67, 0.15);\n",
              "      fill: #174EA6;\n",
              "    }\n",
              "\n",
              "    [theme=dark] .colab-df-convert {\n",
              "      background-color: #3B4455;\n",
              "      fill: #D2E3FC;\n",
              "    }\n",
              "\n",
              "    [theme=dark] .colab-df-convert:hover {\n",
              "      background-color: #434B5C;\n",
              "      box-shadow: 0px 1px 3px 1px rgba(0, 0, 0, 0.15);\n",
              "      filter: drop-shadow(0px 1px 2px rgba(0, 0, 0, 0.3));\n",
              "      fill: #FFFFFF;\n",
              "    }\n",
              "  </style>\n",
              "\n",
              "      <script>\n",
              "        const buttonEl =\n",
              "          document.querySelector('#df-3441b44b-3c45-48e0-9d08-1b8eb67776e9 button.colab-df-convert');\n",
              "        buttonEl.style.display =\n",
              "          google.colab.kernel.accessAllowed ? 'block' : 'none';\n",
              "\n",
              "        async function convertToInteractive(key) {\n",
              "          const element = document.querySelector('#df-3441b44b-3c45-48e0-9d08-1b8eb67776e9');\n",
              "          const dataTable =\n",
              "            await google.colab.kernel.invokeFunction('convertToInteractive',\n",
              "                                                     [key], {});\n",
              "          if (!dataTable) return;\n",
              "\n",
              "          const docLinkHtml = 'Like what you see? Visit the ' +\n",
              "            '<a target=\"_blank\" href=https://colab.research.google.com/notebooks/data_table.ipynb>data table notebook</a>'\n",
              "            + ' to learn more about interactive tables.';\n",
              "          element.innerHTML = '';\n",
              "          dataTable['output_type'] = 'display_data';\n",
              "          await google.colab.output.renderOutput(dataTable, element);\n",
              "          const docLink = document.createElement('div');\n",
              "          docLink.innerHTML = docLinkHtml;\n",
              "          element.appendChild(docLink);\n",
              "        }\n",
              "      </script>\n",
              "    </div>\n",
              "  </div>\n",
              "  "
            ]
          },
          "metadata": {},
          "execution_count": 30
        }
      ]
    },
    {
      "cell_type": "code",
      "source": [
        "fig, ax =plt.subplots(figsize = (10, 8))\n",
        "sns.heatmap(correlation, annot = True)"
      ],
      "metadata": {
        "colab": {
          "base_uri": "https://localhost:8080/",
          "height": 505
        },
        "id": "QFkr50mwVfAw",
        "outputId": "74536fda-ae44-40ca-972b-079838f3b30d"
      },
      "execution_count": null,
      "outputs": [
        {
          "output_type": "execute_result",
          "data": {
            "text/plain": [
              "<matplotlib.axes._subplots.AxesSubplot at 0x7f5880d40550>"
            ]
          },
          "metadata": {},
          "execution_count": 31
        },
        {
          "output_type": "display_data",
          "data": {
            "text/plain": [
              "<Figure size 720x576 with 2 Axes>"
            ],
            "image/png": "[encoded data removed]"
          },
          "metadata": {
            "needs_background": "light"
          }
        }
      ]
    },
    {
      "cell_type": "code",
      "source": [
        "import numpy as np\n",
        "np.corrcoef( file2.adj_radiuspop_5,file2.urbanindex)"
      ],
      "metadata": {
        "colab": {
          "base_uri": "https://localhost:8080/"
        },
        "id": "SK6YZmKoW4JY",
        "outputId": "a25bfb63-fae3-40e8-93ef-2add093760c9"
      },
      "execution_count": null,
      "outputs": [
        {
          "output_type": "execute_result",
          "data": {
            "text/plain": [
              "array([[1.        , 0.59016467],\n",
              "       [0.59016467, 1.        ]])"
            ]
          },
          "metadata": {},
          "execution_count": 43
        }
      ]
    },
    {
      "cell_type": "code",
      "source": [],
      "metadata": {
        "colab": {
          "base_uri": "https://localhost:8080/",
          "height": 131
        },
        "id": "QtwjzRN_eCkf",
        "outputId": "0ad02fd8-d20f-428a-9e72-937b99629275"
      },
      "execution_count": null,
      "outputs": [
        {
          "output_type": "error",
          "ename": "SyntaxError",
          "evalue": "ignored",
          "traceback": [
            "\u001b[0;36m  File \u001b[0;32m\"<ipython-input-74-881717925b41>\"\u001b[0;36m, line \u001b[0;32m1\u001b[0m\n\u001b[0;31m    file[file[np.corrcoef( file2.adj_radiuspop_5,file2.urbanindex)==-0.037)]\u001b[0m\n\u001b[0m                                                                          ^\u001b[0m\n\u001b[0;31mSyntaxError\u001b[0m\u001b[0;31m:\u001b[0m closing parenthesis ')' does not match opening parenthesis '['\n"
          ]
        }
      ]
    },
    {
      "cell_type": "code",
      "source": [
        "al = file[file['state'] == 'Alaska']\n",
        "\n",
        "sns.boxplot(x = al['population'])\n",
        "plt.show()"
      ],
      "metadata": {
        "colab": {
          "base_uri": "https://localhost:8080/",
          "height": 279
        },
        "id": "uD-VOEhKYco5",
        "outputId": "582734a0-a782-4c23-f71d-0dd74efe56c5"
      },
      "execution_count": null,
      "outputs": [
        {
          "output_type": "display_data",
          "data": {
            "text/plain": [
              "<Figure size 432x288 with 1 Axes>"
            ],
            "image/png": "[encoded data removed]"
          },
          "metadata": {
            "needs_background": "light"
          }
        }
      ]
    },
    {
      "cell_type": "code",
      "source": [
        " ok= file[file['state'] == 'Oklahoma']\n",
        "\n",
        "sns.boxplot(x = ok['population'])"
      ],
      "metadata": {
        "colab": {
          "base_uri": "https://localhost:8080/",
          "height": 297
        },
        "id": "c3oXerO1Y2z0",
        "outputId": "03474507-b162-4d7d-ec0f-b69f75c08929"
      },
      "execution_count": null,
      "outputs": [
        {
          "output_type": "execute_result",
          "data": {
            "text/plain": [
              "<matplotlib.axes._subplots.AxesSubplot at 0x7f58806bb160>"
            ]
          },
          "metadata": {},
          "execution_count": 49
        },
        {
          "output_type": "display_data",
          "data": {
            "text/plain": [
              "<Figure size 432x288 with 1 Axes>"
            ],
            "image/png": "[encoded data removed]"
          },
          "metadata": {
            "needs_background": "light"
          }
        }
      ]
    },
    {
      "cell_type": "code",
      "source": [
        " nd= file[file['state'] == 'North Dakota']\n",
        "\n",
        "sns.boxplot(x = nd['population'])"
      ],
      "metadata": {
        "colab": {
          "base_uri": "https://localhost:8080/",
          "height": 297
        },
        "id": "7umwtdSFZDIW",
        "outputId": "c7bf7522-1bfe-4bb4-b55a-57b7a26aefa1"
      },
      "execution_count": null,
      "outputs": [
        {
          "output_type": "execute_result",
          "data": {
            "text/plain": [
              "<matplotlib.axes._subplots.AxesSubplot at 0x7f5880763880>"
            ]
          },
          "metadata": {},
          "execution_count": 50
        },
        {
          "output_type": "display_data",
          "data": {
            "text/plain": [
              "<Figure size 432x288 with 1 Axes>"
            ],
            "image/png": "[encoded data removed]"
          },
          "metadata": {
            "needs_background": "light"
          }
        }
      ]
    },
    {
      "cell_type": "code",
      "source": [
        " mnt= file[file['state'] == 'Montana']\n",
        "\n",
        "sns.boxplot(x = mnt['population'])"
      ],
      "metadata": {
        "colab": {
          "base_uri": "https://localhost:8080/",
          "height": 297
        },
        "id": "W1A0VcOtZPrR",
        "outputId": "2c1f6978-20ca-4cdd-9ab1-f28e32f9e162"
      },
      "execution_count": null,
      "outputs": [
        {
          "output_type": "execute_result",
          "data": {
            "text/plain": [
              "<matplotlib.axes._subplots.AxesSubplot at 0x7f5880614310>"
            ]
          },
          "metadata": {},
          "execution_count": 52
        },
        {
          "output_type": "display_data",
          "data": {
            "text/plain": [
              "<Figure size 432x288 with 1 Axes>"
            ],
            "image/png": "[encoded data removed]"
          },
          "metadata": {
            "needs_background": "light"
          }
        }
      ]
    },
    {
      "cell_type": "code",
      "source": [
        "file[file['state'] == 'Oklahoma'].urbanindex.hist()"
      ],
      "metadata": {
        "colab": {
          "base_uri": "https://localhost:8080/",
          "height": 283
        },
        "id": "hgC1J2b8ZiR2",
        "outputId": "372783ec-15fb-49a0-9d06-69fbbcad5c21"
      },
      "execution_count": null,
      "outputs": [
        {
          "output_type": "execute_result",
          "data": {
            "text/plain": [
              "<matplotlib.axes._subplots.AxesSubplot at 0x7f588074ee20>"
            ]
          },
          "metadata": {},
          "execution_count": 54
        },
        {
          "output_type": "display_data",
          "data": {
            "text/plain": [
              "<Figure size 432x288 with 1 Axes>"
            ],
            "image/png": "[encoded data removed]"
          },
          "metadata": {
            "needs_background": "light"
          }
        }
      ]
    },
    {
      "cell_type": "code",
      "source": [
        "kn = file[file['state'] == 'Kansas']\n",
        "\n",
        "sns.boxplot(x = kn['urbanindex'])"
      ],
      "metadata": {
        "colab": {
          "base_uri": "https://localhost:8080/",
          "height": 297
        },
        "id": "gS5i3X3PaN3h",
        "outputId": "5fc462a6-7c10-4a46-cc42-c0847e06cc12"
      },
      "execution_count": null,
      "outputs": [
        {
          "output_type": "execute_result",
          "data": {
            "text/plain": [
              "<matplotlib.axes._subplots.AxesSubplot at 0x7f5880215190>"
            ]
          },
          "metadata": {},
          "execution_count": 55
        },
        {
          "output_type": "display_data",
          "data": {
            "text/plain": [
              "<Figure size 432x288 with 1 Axes>"
            ],
            "image/png": "[encoded data removed]"
          },
          "metadata": {
            "needs_background": "light"
          }
        }
      ]
    },
    {
      "cell_type": "code",
      "source": [
        "knt = file[file['state'] == 'Kentucky']\n",
        "\n",
        "sns.boxplot(x = knt['urbanindex'])"
      ],
      "metadata": {
        "colab": {
          "base_uri": "https://localhost:8080/",
          "height": 297
        },
        "id": "85ndsa1iaXNj",
        "outputId": "4113a550-8e50-4f88-96f7-e826b10246ad"
      },
      "execution_count": null,
      "outputs": [
        {
          "output_type": "execute_result",
          "data": {
            "text/plain": [
              "<matplotlib.axes._subplots.AxesSubplot at 0x7f58806b0fd0>"
            ]
          },
          "metadata": {},
          "execution_count": 56
        },
        {
          "output_type": "display_data",
          "data": {
            "text/plain": [
              "<Figure size 432x288 with 1 Axes>"
            ],
            "image/png": "[encoded data removed]"
          },
          "metadata": {
            "needs_background": "light"
          }
        }
      ]
    },
    {
      "cell_type": "code",
      "source": [
        "file.corr()"
      ],
      "metadata": {
        "colab": {
          "base_uri": "https://localhost:8080/",
          "height": 294
        },
        "id": "fqbL_HFzajai",
        "outputId": "f0596694-35d7-4889-f9da-b53cd608511c"
      },
      "execution_count": null,
      "outputs": [
        {
          "output_type": "execute_result",
          "data": {
            "text/plain": [
              "                 Unnamed: 0  statefips  lat_tract  long_tract  population  \\\n",
              "Unnamed: 0         1.000000   0.991107   0.141672    0.315223   -0.020524   \n",
              "statefips          0.991107   1.000000   0.104501    0.330124   -0.026953   \n",
              "lat_tract          0.141672   0.104501   1.000000    0.033761   -0.094403   \n",
              "long_tract         0.315223   0.330124   0.033761    1.000000   -0.083581   \n",
              "population        -0.020524  -0.026953  -0.094403   -0.083581    1.000000   \n",
              "adj_radiuspop_5   -0.046987  -0.026962   0.060459    0.077365   -0.036867   \n",
              "urbanindex        -0.093138  -0.078511  -0.067592    0.005284    0.045142   \n",
              "log_pop           -0.020960  -0.026332  -0.065424   -0.077533    0.865778   \n",
              "\n",
              "                 adj_radiuspop_5  urbanindex   log_pop  \n",
              "Unnamed: 0             -0.046987   -0.093138 -0.020960  \n",
              "statefips              -0.026962   -0.078511 -0.026332  \n",
              "lat_tract               0.060459   -0.067592 -0.065424  \n",
              "long_tract              0.077365    0.005284 -0.077533  \n",
              "population             -0.036867    0.045142  0.865778  \n",
              "adj_radiuspop_5         1.000000    0.590165 -0.042525  \n",
              "urbanindex              0.590165    1.000000  0.047336  \n",
              "log_pop                -0.042525    0.047336  1.000000  "
            ],
            "text/html": [
              "\n",
              "  <div id=\"df-997521df-fae6-4746-b56c-59b2d14a6a65\">\n",
              "    <div class=\"colab-df-container\">\n",
              "      <div>\n",
              "<style scoped>\n",
              "    .dataframe tbody tr th:only-of-type {\n",
              "        vertical-align: middle;\n",
              "    }\n",
              "\n",
              "    .dataframe tbody tr th {\n",
              "        vertical-align: top;\n",
              "    }\n",
              "\n",
              "    .dataframe thead th {\n",
              "        text-align: right;\n",
              "    }\n",
              "</style>\n",
              "<table border=\"1\" class=\"dataframe\">\n",
              "  <thead>\n",
              "    <tr style=\"text-align: right;\">\n",
              "      <th></th>\n",
              "      <th>Unnamed: 0</th>\n",
              "      <th>statefips</th>\n",
              "      <th>lat_tract</th>\n",
              "      <th>long_tract</th>\n",
              "      <th>population</th>\n",
              "      <th>adj_radiuspop_5</th>\n",
              "      <th>urbanindex</th>\n",
              "      <th>log_pop</th>\n",
              "    </tr>\n",
              "  </thead>\n",
              "  <tbody>\n",
              "    <tr>\n",
              "      <th>Unnamed: 0</th>\n",
              "      <td>1.000000</td>\n",
              "      <td>0.991107</td>\n",
              "      <td>0.141672</td>\n",
              "      <td>0.315223</td>\n",
              "      <td>-0.020524</td>\n",
              "      <td>-0.046987</td>\n",
              "      <td>-0.093138</td>\n",
              "      <td>-0.020960</td>\n",
              "    </tr>\n",
              "    <tr>\n",
              "      <th>statefips</th>\n",
              "      <td>0.991107</td>\n",
              "      <td>1.000000</td>\n",
              "      <td>0.104501</td>\n",
              "      <td>0.330124</td>\n",
              "      <td>-0.026953</td>\n",
              "      <td>-0.026962</td>\n",
              "      <td>-0.078511</td>\n",
              "      <td>-0.026332</td>\n",
              "    </tr>\n",
              "    <tr>\n",
              "      <th>lat_tract</th>\n",
              "      <td>0.141672</td>\n",
              "      <td>0.104501</td>\n",
              "      <td>1.000000</td>\n",
              "      <td>0.033761</td>\n",
              "      <td>-0.094403</td>\n",
              "      <td>0.060459</td>\n",
              "      <td>-0.067592</td>\n",
              "      <td>-0.065424</td>\n",
              "    </tr>\n",
              "    <tr>\n",
              "      <th>long_tract</th>\n",
              "      <td>0.315223</td>\n",
              "      <td>0.330124</td>\n",
              "      <td>0.033761</td>\n",
              "      <td>1.000000</td>\n",
              "      <td>-0.083581</td>\n",
              "      <td>0.077365</td>\n",
              "      <td>0.005284</td>\n",
              "      <td>-0.077533</td>\n",
              "    </tr>\n",
              "    <tr>\n",
              "      <th>population</th>\n",
              "      <td>-0.020524</td>\n",
              "      <td>-0.026953</td>\n",
              "      <td>-0.094403</td>\n",
              "      <td>-0.083581</td>\n",
              "      <td>1.000000</td>\n",
              "      <td>-0.036867</td>\n",
              "      <td>0.045142</td>\n",
              "      <td>0.865778</td>\n",
              "    </tr>\n",
              "    <tr>\n",
              "      <th>adj_radiuspop_5</th>\n",
              "      <td>-0.046987</td>\n",
              "      <td>-0.026962</td>\n",
              "      <td>0.060459</td>\n",
              "      <td>0.077365</td>\n",
              "      <td>-0.036867</td>\n",
              "      <td>1.000000</td>\n",
              "      <td>0.590165</td>\n",
              "      <td>-0.042525</td>\n",
              "    </tr>\n",
              "    <tr>\n",
              "      <th>urbanindex</th>\n",
              "      <td>-0.093138</td>\n",
              "      <td>-0.078511</td>\n",
              "      <td>-0.067592</td>\n",
              "      <td>0.005284</td>\n",
              "      <td>0.045142</td>\n",
              "      <td>0.590165</td>\n",
              "      <td>1.000000</td>\n",
              "      <td>0.047336</td>\n",
              "    </tr>\n",
              "    <tr>\n",
              "      <th>log_pop</th>\n",
              "      <td>-0.020960</td>\n",
              "      <td>-0.026332</td>\n",
              "      <td>-0.065424</td>\n",
              "      <td>-0.077533</td>\n",
              "      <td>0.865778</td>\n",
              "      <td>-0.042525</td>\n",
              "      <td>0.047336</td>\n",
              "      <td>1.000000</td>\n",
              "    </tr>\n",
              "  </tbody>\n",
              "</table>\n",
              "</div>\n",
              "      <button class=\"colab-df-convert\" onclick=\"convertToInteractive('df-997521df-fae6-4746-b56c-59b2d14a6a65')\"\n",
              "              title=\"Convert this dataframe to an interactive table.\"\n",
              "              style=\"display:none;\">\n",
              "        \n",
              "  <svg xmlns=\"http://www.w3.org/2000/svg\" height=\"24px\"viewBox=\"0 0 24 24\"\n",
              "       width=\"24px\">\n",
              "    <path d=\"M0 0h24v24H0V0z\" fill=\"none\"/>\n",
              "    <path d=\"M18.56 5.44l.94 2.06.94-2.06 2.06-.94-2.06-.94-.94-2.06-.94 2.06-2.06.94zm-11 1L8.5 8.5l.94-2.06 2.06-.94-2.06-.94L8.5 2.5l-.94 2.06-2.06.94zm10 10l.94 2.06.94-2.06 2.06-.94-2.06-.94-.94-2.06-.94 2.06-2.06.94z\"/><path d=\"M17.41 7.96l-1.37-1.37c-.4-.4-.92-.59-1.43-.59-.52 0-1.04.2-1.43.59L10.3 9.45l-7.72 7.72c-.78.78-.78 2.05 0 2.83L4 21.41c.39.39.9.59 1.41.59.51 0 1.02-.2 1.41-.59l7.78-7.78 2.81-2.81c.8-.78.8-2.07 0-2.86zM5.41 20L4 18.59l7.72-7.72 1.47 1.35L5.41 20z\"/>\n",
              "  </svg>\n",
              "      </button>\n",
              "      \n",
              "  <style>\n",
              "    .colab-df-container {\n",
              "      display:flex;\n",
              "      flex-wrap:wrap;\n",
              "      gap: 12px;\n",
              "    }\n",
              "\n",
              "    .colab-df-convert {\n",
              "      background-color: #E8F0FE;\n",
              "      border: none;\n",
              "      border-radius: 50%;\n",
              "      cursor: pointer;\n",
              "      display: none;\n",
              "      fill: #1967D2;\n",
              "      height: 32px;\n",
              "      padding: 0 0 0 0;\n",
              "      width: 32px;\n",
              "    }\n",
              "\n",
              "    .colab-df-convert:hover {\n",
              "      background-color: #E2EBFA;\n",
              "      box-shadow: 0px 1px 2px rgba(60, 64, 67, 0.3), 0px 1px 3px 1px rgba(60, 64, 67, 0.15);\n",
              "      fill: #174EA6;\n",
              "    }\n",
              "\n",
              "    [theme=dark] .colab-df-convert {\n",
              "      background-color: #3B4455;\n",
              "      fill: #D2E3FC;\n",
              "    }\n",
              "\n",
              "    [theme=dark] .colab-df-convert:hover {\n",
              "      background-color: #434B5C;\n",
              "      box-shadow: 0px 1px 3px 1px rgba(0, 0, 0, 0.15);\n",
              "      filter: drop-shadow(0px 1px 2px rgba(0, 0, 0, 0.3));\n",
              "      fill: #FFFFFF;\n",
              "    }\n",
              "  </style>\n",
              "\n",
              "      <script>\n",
              "        const buttonEl =\n",
              "          document.querySelector('#df-997521df-fae6-4746-b56c-59b2d14a6a65 button.colab-df-convert');\n",
              "        buttonEl.style.display =\n",
              "          google.colab.kernel.accessAllowed ? 'block' : 'none';\n",
              "\n",
              "        async function convertToInteractive(key) {\n",
              "          const element = document.querySelector('#df-997521df-fae6-4746-b56c-59b2d14a6a65');\n",
              "          const dataTable =\n",
              "            await google.colab.kernel.invokeFunction('convertToInteractive',\n",
              "                                                     [key], {});\n",
              "          if (!dataTable) return;\n",
              "\n",
              "          const docLinkHtml = 'Like what you see? Visit the ' +\n",
              "            '<a target=\"_blank\" href=https://colab.research.google.com/notebooks/data_table.ipynb>data table notebook</a>'\n",
              "            + ' to learn more about interactive tables.';\n",
              "          element.innerHTML = '';\n",
              "          dataTable['output_type'] = 'display_data';\n",
              "          await google.colab.output.renderOutput(dataTable, element);\n",
              "          const docLink = document.createElement('div');\n",
              "          docLink.innerHTML = docLinkHtml;\n",
              "          element.appendChild(docLink);\n",
              "        }\n",
              "      </script>\n",
              "    </div>\n",
              "  </div>\n",
              "  "
            ]
          },
          "metadata": {},
          "execution_count": 57
        }
      ]
    },
    {
      "cell_type": "code",
      "source": [
        "np.corrcoef(file.population, file.adj_radiuspop_5)"
      ],
      "metadata": {
        "colab": {
          "base_uri": "https://localhost:8080/"
        },
        "id": "FtZzMGlwawUo",
        "outputId": "6fece0b8-b5e8-4d20-d156-eaf598924e99"
      },
      "execution_count": null,
      "outputs": [
        {
          "output_type": "execute_result",
          "data": {
            "text/plain": [
              "array([[ 1.       , -0.0368673],\n",
              "       [-0.0368673,  1.       ]])"
            ]
          },
          "metadata": {},
          "execution_count": 64
        }
      ]
    },
    {
      "cell_type": "code",
      "source": [
        "arizona = file[file['state'] == 'Arizona']\n",
        "\n",
        "sns.boxplot(x = arizona['urbanindex'])"
      ],
      "metadata": {
        "colab": {
          "base_uri": "https://localhost:8080/",
          "height": 297
        },
        "id": "1CK3-VDZbuk6",
        "outputId": "46ee4b37-5901-42d5-d37a-6572cdeadf4b"
      },
      "execution_count": null,
      "outputs": [
        {
          "output_type": "execute_result",
          "data": {
            "text/plain": [
              "<matplotlib.axes._subplots.AxesSubplot at 0x7f587fbf1e50>"
            ]
          },
          "metadata": {},
          "execution_count": 67
        },
        {
          "output_type": "display_data",
          "data": {
            "text/plain": [
              "<Figure size 432x288 with 1 Axes>"
            ],
            "image/png": "[encoded data removed]"
          },
          "metadata": {
            "needs_background": "light"
          }
        }
      ]
    },
    {
      "cell_type": "code",
      "source": [
        "cal = file[file['state'] == 'California']\n",
        "\n",
        "sns.boxplot(x = cal['urbanindex'])"
      ],
      "metadata": {
        "colab": {
          "base_uri": "https://localhost:8080/",
          "height": 297
        },
        "id": "Syo-0AbFcZDr",
        "outputId": "e9e0b3ed-4917-40d4-dd77-ecd512cb0010"
      },
      "execution_count": null,
      "outputs": [
        {
          "output_type": "execute_result",
          "data": {
            "text/plain": [
              "<matplotlib.axes._subplots.AxesSubplot at 0x7f587fb6f760>"
            ]
          },
          "metadata": {},
          "execution_count": 68
        },
        {
          "output_type": "display_data",
          "data": {
            "text/plain": [
              "<Figure size 432x288 with 1 Axes>"
            ],
            "image/png": "[encoded data removed]"
          },
          "metadata": {
            "needs_background": "light"
          }
        }
      ]
    },
    {
      "cell_type": "code",
      "source": [
        "texas = file[file['state'] == 'Texas']\n",
        "\n",
        "sns.boxplot(x = texas['urbanindex'])"
      ],
      "metadata": {
        "colab": {
          "base_uri": "https://localhost:8080/",
          "height": 297
        },
        "id": "5C5T9WUkch4V",
        "outputId": "9a6611b8-0425-48f8-ed7e-35c0982c3849"
      },
      "execution_count": null,
      "outputs": [
        {
          "output_type": "execute_result",
          "data": {
            "text/plain": [
              "<matplotlib.axes._subplots.AxesSubplot at 0x7f587fb31640>"
            ]
          },
          "metadata": {},
          "execution_count": 69
        },
        {
          "output_type": "display_data",
          "data": {
            "text/plain": [
              "<Figure size 432x288 with 1 Axes>"
            ],
            "image/png": "[encoded data removed]"
          },
          "metadata": {
            "needs_background": "light"
          }
        }
      ]
    },
    {
      "cell_type": "code",
      "source": [
        "Nebraska = file[file['state'] == 'Nebraska']\n",
        "\n",
        "sns.boxplot(x = Nebraska['urbanindex'])"
      ],
      "metadata": {
        "colab": {
          "base_uri": "https://localhost:8080/",
          "height": 297
        },
        "id": "GrANAL0ddAFu",
        "outputId": "05321add-bd2f-4013-daac-3958d898a3ad"
      },
      "execution_count": null,
      "outputs": [
        {
          "output_type": "execute_result",
          "data": {
            "text/plain": [
              "<matplotlib.axes._subplots.AxesSubplot at 0x7f587fb071f0>"
            ]
          },
          "metadata": {},
          "execution_count": 70
        },
        {
          "output_type": "display_data",
          "data": {
            "text/plain": [
              "<Figure size 432x288 with 1 Axes>"
            ],
            "image/png": "[encoded data removed]"
          },
          "metadata": {
            "needs_background": "light"
          }
        }
      ]
    }
  ]
}